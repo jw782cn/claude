{
 "cells": [
  {
   "cell_type": "code",
   "execution_count": 40,
   "metadata": {},
   "outputs": [
    {
     "name": "stdout",
     "output_type": "stream",
     "text": [
      "Project summary created successfully.\n"
     ]
    }
   ],
   "source": [
    "import os\n",
    "\n",
    "def create_project_summary(directory_path):\n",
    "    project_directory = os.path.basename(directory_path)\n",
    "\n",
    "    directory_files = []\n",
    "    file_names = []\n",
    "\n",
    "    for root, dirs, files in os.walk(directory_path):\n",
    "        for file_name in files:\n",
    "            directory_files.append(os.path.join(root, file_name))\n",
    "            file_names.append(file_name)\n",
    "\n",
    "    with open('project_summary.txt', 'w') as summary_file:\n",
    "        summary_file.write(f\"Project Directory:\\n- {project_directory}\\n\")\n",
    "\n",
    "        for file_path, file_name in zip(directory_files, file_names):\n",
    "            # summary_file.write(f\"-- {os.path.basename(file_path)}\\n\")\n",
    "            summary_file.write(f\"{file_path.replace(directory_path, '')}\\n\")\n",
    "        for file_path, file_name in zip(directory_files, file_names):\n",
    "            if file_path.replace(directory_path, '').startswith(\"/service\"):\n",
    "                continue\n",
    "            with open(file_path, 'r') as file:\n",
    "                summary_file.write(f\"\\n==={file_path.replace(directory_path, '')}===\\n\\n\")\n",
    "                file_content = file.read()\n",
    "                summary_file.write(f\"{file_content}\\n\\n==={file_path.replace(directory_path, '')}===\\n\\n\")\n",
    "\n",
    "    print(\"Project summary created successfully.\")\n",
    "\n",
    "# Replace 'directory_path' with the path to your desired directory\n",
    "directory_path = '/Users/chty627/Desktop/百姓网/chato-service-master'\n",
    "create_project_summary(directory_path)\n"
   ]
  },
  {
   "cell_type": "code",
   "execution_count": 41,
   "metadata": {},
   "outputs": [],
   "source": [
    "import os\n",
    "import time\n",
    "import logging\n",
    "import tiktoken\n",
    "import PyPDF2\n",
    "\n",
    "import promptlayer\n",
    "promptlayer.api_key = os.getenv(\"PROMPTLAYER_API_KEY\")\n",
    "\n",
    "openai = promptlayer.openai\n",
    "openai.api_key = os.getenv(\"OPENAI_API_KEY\")\n",
    "MODEL = \"gpt-3.5-turbo\"\n",
    "def num_tokens_from_string(string, model=MODEL):\n",
    "    encoding = tiktoken.encoding_for_model(model)\n",
    "    return len(encoding.encode(string))\n"
   ]
  },
  {
   "cell_type": "code",
   "execution_count": 43,
   "metadata": {},
   "outputs": [
    {
     "name": "stdout",
     "output_type": "stream",
     "text": [
      "45881\n"
     ]
    }
   ],
   "source": [
    "# read from the project_summary.txt file\n",
    "with open('project_summary.txt', 'r') as file:\n",
    "    file_content = file.read()\n",
    "    print(num_tokens_from_string(file_content))"
   ]
  },
  {
   "cell_type": "code",
   "execution_count": null,
   "metadata": {},
   "outputs": [],
   "source": []
  }
 ],
 "metadata": {
  "kernelspec": {
   "display_name": "base",
   "language": "python",
   "name": "python3"
  },
  "language_info": {
   "codemirror_mode": {
    "name": "ipython",
    "version": 3
   },
   "file_extension": ".py",
   "mimetype": "text/x-python",
   "name": "python",
   "nbconvert_exporter": "python",
   "pygments_lexer": "ipython3",
   "version": "3.9.7"
  },
  "orig_nbformat": 4
 },
 "nbformat": 4,
 "nbformat_minor": 2
}
